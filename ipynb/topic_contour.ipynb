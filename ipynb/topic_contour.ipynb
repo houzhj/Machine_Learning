{
 "cells": [
  {
   "cell_type": "code",
   "execution_count": 1,
   "id": "d440d69a",
   "metadata": {},
   "outputs": [],
   "source": [
    "import matplotlib.pyplot as plt\n",
    "import numpy as np\n",
    "import torch\n",
    "import torch\n",
    "import torch.nn as nn\n",
    "import pandas as pd"
   ]
  },
  {
   "cell_type": "markdown",
   "id": "1d393297",
   "metadata": {},
   "source": [
    "# 1. Define the Perceptron Function"
   ]
  },
  {
   "cell_type": "code",
   "execution_count": 2,
   "id": "1c808e84",
   "metadata": {},
   "outputs": [],
   "source": [
    "class Perceptron(nn.Module):\n",
    "    \"\"\" A Perceptron is one Linear layer \"\"\"\n",
    "    def __init__(self, input_dim):\n",
    "        \"\"\"\n",
    "        Args:\n",
    "            input_dim (int): size of the input features\n",
    "        \"\"\"\n",
    "        super(Perceptron, self).__init__()\n",
    "        self.fc1 = nn.Linear(input_dim, 1)\n",
    "\n",
    "    def forward(self, x_in):\n",
    "        \"\"\"The forward pass of the MLP\n",
    "        Args:\n",
    "            x_in (torch.Tensor): an input data tensor.\n",
    "            x_in.shape should be (batch, input_dim)\n",
    "        Returns:\n",
    "            the resulting tensor. tensor.shape should be (batch, 1)\n",
    "        \"\"\"\n",
    "        return torch.sigmoid(self.fc1(x_in))\n",
    "    \n",
    "perceptron = Perceptron(input_dim=2)"
   ]
  },
  {
   "cell_type": "markdown",
   "id": "d0447ded",
   "metadata": {},
   "source": [
    "# 2. Data Generation"
   ]
  },
  {
   "cell_type": "code",
   "execution_count": 3,
   "id": "a5a49f2f",
   "metadata": {},
   "outputs": [],
   "source": [
    "left_center  = (3, 3)\n",
    "right_center = (3, -2)"
   ]
  },
  {
   "cell_type": "code",
   "execution_count": 4,
   "id": "ea54bd17",
   "metadata": {},
   "outputs": [],
   "source": [
    "def get_toy_data(batch_size, left_center=left_center, right_center=right_center):\n",
    "    x_data = []\n",
    "    y_targets = np.zeros(batch_size)\n",
    "    for batch_i in range(batch_size):\n",
    "        if np.random.random() > 0.5:\n",
    "            x_data.append(np.random.normal(loc=left_center))\n",
    "        else:\n",
    "            x_data.append(np.random.normal(loc=right_center))\n",
    "            y_targets[batch_i] = 1\n",
    "    return torch.tensor(x_data, dtype=torch.float32), torch.tensor(y_targets, dtype=torch.float32)"
   ]
  },
  {
   "cell_type": "markdown",
   "id": "97fb2147",
   "metadata": {},
   "source": [
    "### Sample size = 20 "
   ]
  },
  {
   "cell_type": "code",
   "execution_count": 5,
   "id": "6fee5ac3",
   "metadata": {},
   "outputs": [
    {
     "name": "stderr",
     "output_type": "stream",
     "text": [
      "/var/folders/6s/wxmy299j1592tl76rwp6kg3h0000gn/T/ipykernel_26934/1802577198.py:10: UserWarning: Creating a tensor from a list of numpy.ndarrays is extremely slow. Please consider converting the list to a single numpy.ndarray with numpy.array() before converting to a tensor. (Triggered internally at /Users/runner/work/_temp/anaconda/conda-bld/pytorch_1695391830591/work/torch/csrc/utils/tensor_new.cpp:264.)\n",
      "  return torch.tensor(x_data, dtype=torch.float32), torch.tensor(y_targets, dtype=torch.float32)\n"
     ]
    }
   ],
   "source": [
    "batch_size     = 30\n",
    "x_data, y_data = get_toy_data(batch_size=batch_size)"
   ]
  },
  {
   "cell_type": "code",
   "execution_count": 6,
   "id": "dca9bc88",
   "metadata": {},
   "outputs": [
    {
     "data": {
      "text/plain": [
       "tensor([[ 2.7104, -2.3213],\n",
       "        [ 4.1496,  3.3858],\n",
       "        [ 2.8903,  3.4918],\n",
       "        [ 2.5984, -2.8094],\n",
       "        [ 3.6674, -1.6744],\n",
       "        [ 1.9956, -2.3851],\n",
       "        [ 1.6847,  3.0371],\n",
       "        [ 1.9471,  1.6833],\n",
       "        [ 2.9925, -1.4893],\n",
       "        [ 3.0489,  2.7597],\n",
       "        [ 3.7069,  1.4569],\n",
       "        [ 2.1466, -2.1829],\n",
       "        [ 3.0365,  1.9636],\n",
       "        [ 3.9835, -0.3091],\n",
       "        [ 2.6101,  2.5730],\n",
       "        [ 2.6553, -2.9755],\n",
       "        [ 2.0584, -2.4985],\n",
       "        [ 4.4836,  2.7220],\n",
       "        [ 2.9088,  5.0267],\n",
       "        [ 0.9639, -2.3109],\n",
       "        [ 2.6608, -3.0436],\n",
       "        [ 2.2244,  3.3692],\n",
       "        [ 3.0745,  2.8960],\n",
       "        [ 3.6247, -3.0864],\n",
       "        [ 4.2521, -1.1661],\n",
       "        [ 3.6620, -1.2373],\n",
       "        [ 1.6495,  2.5327],\n",
       "        [ 3.1371,  3.6502],\n",
       "        [ 4.5396,  3.0892],\n",
       "        [ 1.2569, -1.4327]])"
      ]
     },
     "execution_count": 6,
     "metadata": {},
     "output_type": "execute_result"
    }
   ],
   "source": [
    "x_data"
   ]
  },
  {
   "cell_type": "code",
   "execution_count": 7,
   "id": "b9772569",
   "metadata": {},
   "outputs": [
    {
     "data": {
      "text/plain": [
       "tensor([1., 0., 0., 1., 1., 1., 0., 0., 1., 0., 0., 1., 0., 1., 0., 1., 1., 0.,\n",
       "        0., 1., 1., 0., 0., 1., 1., 1., 0., 0., 0., 1.])"
      ]
     },
     "execution_count": 7,
     "metadata": {},
     "output_type": "execute_result"
    }
   ],
   "source": [
    "y_data"
   ]
  },
  {
   "cell_type": "markdown",
   "id": "5992e09d",
   "metadata": {},
   "source": [
    "# 3. Create the Contour Lines"
   ]
  },
  {
   "cell_type": "markdown",
   "id": "e4daccf8",
   "metadata": {},
   "source": [
    "### Turning the tensor data to arrays"
   ]
  },
  {
   "cell_type": "code",
   "execution_count": 8,
   "id": "cbd7bfd9",
   "metadata": {},
   "outputs": [],
   "source": [
    "n_classes=2\n",
    "x_data    = x_data.numpy()\n",
    "y_data    = y_data.numpy().astype(np.int32)"
   ]
  },
  {
   "cell_type": "code",
   "execution_count": 9,
   "id": "f0b7f469",
   "metadata": {},
   "outputs": [
    {
     "data": {
      "text/plain": [
       "[[array([4.149592 , 3.3858068], dtype=float32),\n",
       "  array([2.8903475, 3.4917686], dtype=float32),\n",
       "  array([1.6846516, 3.037144 ], dtype=float32),\n",
       "  array([1.947062 , 1.6832937], dtype=float32),\n",
       "  array([3.048863, 2.759749], dtype=float32),\n",
       "  array([3.706896 , 1.4569017], dtype=float32),\n",
       "  array([3.0364678, 1.9635779], dtype=float32),\n",
       "  array([2.6101344, 2.5729547], dtype=float32),\n",
       "  array([4.4835734, 2.7219818], dtype=float32),\n",
       "  array([2.908813, 5.026676], dtype=float32),\n",
       "  array([2.2244189, 3.3691978], dtype=float32),\n",
       "  array([3.074518, 2.896022], dtype=float32),\n",
       "  array([1.6495   , 2.5327234], dtype=float32),\n",
       "  array([3.1370785, 3.650216 ], dtype=float32),\n",
       "  array([4.5395646, 3.0891876], dtype=float32)],\n",
       " [array([ 2.710432 , -2.3213153], dtype=float32),\n",
       "  array([ 2.598384 , -2.8093586], dtype=float32),\n",
       "  array([ 3.6674478, -1.6744418], dtype=float32),\n",
       "  array([ 1.9956175, -2.3851175], dtype=float32),\n",
       "  array([ 2.9924586, -1.4892895], dtype=float32),\n",
       "  array([ 2.146602 , -2.1828763], dtype=float32),\n",
       "  array([ 3.9835117 , -0.30906442], dtype=float32),\n",
       "  array([ 2.6553383, -2.9754908], dtype=float32),\n",
       "  array([ 2.0584104, -2.498523 ], dtype=float32),\n",
       "  array([ 0.9639266, -2.3109121], dtype=float32),\n",
       "  array([ 2.660838 , -3.0436373], dtype=float32),\n",
       "  array([ 3.6246524, -3.0863605], dtype=float32),\n",
       "  array([ 4.2521415, -1.166143 ], dtype=float32),\n",
       "  array([ 3.661965 , -1.2372577], dtype=float32),\n",
       "  array([ 1.2568841, -1.4327077], dtype=float32)]]"
      ]
     },
     "execution_count": 9,
     "metadata": {},
     "output_type": "execute_result"
    }
   ],
   "source": [
    "### all_x[0] stores the x coordinates for y=0 observations \n",
    "### all_x[1] stores the x coordinates for y=1 observations \n",
    "\n",
    "all_x = [[] for _ in range(n_classes)]\n",
    "for x_i, y_i in zip(x_data,y_data):\n",
    "    all_x[y_i].append(x_i)\n",
    "    \n",
    "all_x"
   ]
  },
  {
   "cell_type": "code",
   "execution_count": 10,
   "id": "8d58c5f7",
   "metadata": {},
   "outputs": [],
   "source": [
    "all_x = [np.stack(x_list) for x_list in all_x]"
   ]
  },
  {
   "cell_type": "code",
   "execution_count": 11,
   "id": "6c4b0cb0",
   "metadata": {},
   "outputs": [],
   "source": [
    "x_1_lim = (min([x_list[:,0].min() for x_list in all_x]), max([x_list[:,0].max() for x_list in all_x]))\n",
    "x_2_lim = (min([x_list[:,1].min() for x_list in all_x]), max([x_list[:,1].max() for x_list in all_x]))"
   ]
  },
  {
   "cell_type": "code",
   "execution_count": 12,
   "id": "9e0fb945",
   "metadata": {},
   "outputs": [
    {
     "data": {
      "text/plain": [
       "(0.9639266, 4.5395646)"
      ]
     },
     "execution_count": 12,
     "metadata": {},
     "output_type": "execute_result"
    }
   ],
   "source": [
    "### the min and max for x1\n",
    "x_1_lim"
   ]
  },
  {
   "cell_type": "code",
   "execution_count": 13,
   "id": "48f349c4",
   "metadata": {},
   "outputs": [
    {
     "data": {
      "text/plain": [
       "(-3.0863605, 5.026676)"
      ]
     },
     "execution_count": 13,
     "metadata": {},
     "output_type": "execute_result"
    }
   ],
   "source": [
    "### the min and max for x2\n",
    "x_2_lim"
   ]
  },
  {
   "cell_type": "code",
   "execution_count": 14,
   "id": "d3ae441d",
   "metadata": {},
   "outputs": [],
   "source": [
    "xx1 = np.linspace(x_1_lim[0], x_1_lim[1], 10)\n",
    "xx2 = np.linspace(x_2_lim[0], x_2_lim[1], 10)"
   ]
  },
  {
   "cell_type": "code",
   "execution_count": 15,
   "id": "33d8485b",
   "metadata": {},
   "outputs": [
    {
     "data": {
      "text/plain": [
       "array([0.96392661, 1.36121972, 1.75851283, 2.15580595, 2.55309906,\n",
       "       2.95039217, 3.34768528, 3.74497839, 4.1422715 , 4.53956461])"
      ]
     },
     "execution_count": 15,
     "metadata": {},
     "output_type": "execute_result"
    }
   ],
   "source": [
    "### Evenly spaced numbers over x_1_lim[0] and x_1_lim[1]\n",
    "xx1"
   ]
  },
  {
   "cell_type": "code",
   "execution_count": 16,
   "id": "4d7930bd",
   "metadata": {},
   "outputs": [
    {
     "data": {
      "text/plain": [
       "array([-3.08636045, -2.18491194, -1.28346343, -0.38201491,  0.5194336 ,\n",
       "        1.42088212,  2.32233063,  3.22377915,  4.12522766,  5.02667618])"
      ]
     },
     "execution_count": 16,
     "metadata": {},
     "output_type": "execute_result"
    }
   ],
   "source": [
    "### Evenly spaced numbers over x_2_lim[0] and x_2_lim[1]\n",
    "xx2"
   ]
  },
  {
   "cell_type": "code",
   "execution_count": 17,
   "id": "30d91d3a",
   "metadata": {},
   "outputs": [],
   "source": [
    "XX1, XX2 = np.meshgrid(xx1, xx2)"
   ]
  },
  {
   "cell_type": "code",
   "execution_count": 18,
   "id": "b632ca62",
   "metadata": {},
   "outputs": [
    {
     "data": {
      "image/png": "[encoded data removed]",
      "text/plain": [
       "<Figure size 432x288 with 1 Axes>"
      ]
     },
     "metadata": {
      "needs_background": "light"
     },
     "output_type": "display_data"
    }
   ],
   "source": [
    "### A list of coordinate matrices from coordinate vectors.\n",
    "plt.plot(XX1, XX2, marker='o', color='k', linestyle='none')\n",
    "plt.xlabel(\"X1\")\n",
    "plt.ylabel(\"X2\")\n",
    "plt.show()"
   ]
  },
  {
   "cell_type": "code",
   "execution_count": 19,
   "id": "38b4674e",
   "metadata": {},
   "outputs": [
    {
     "data": {
      "text/plain": [
       "array([[ 0.96392661, -3.08636045],\n",
       "       [ 1.36121972, -3.08636045],\n",
       "       [ 1.75851283, -3.08636045],\n",
       "       [ 2.15580595, -3.08636045],\n",
       "       [ 2.55309906, -3.08636045],\n",
       "       [ 2.95039217, -3.08636045],\n",
       "       [ 3.34768528, -3.08636045],\n",
       "       [ 3.74497839, -3.08636045],\n",
       "       [ 4.1422715 , -3.08636045],\n",
       "       [ 4.53956461, -3.08636045],\n",
       "       [ 0.96392661, -2.18491194],\n",
       "       [ 1.36121972, -2.18491194],\n",
       "       [ 1.75851283, -2.18491194],\n",
       "       [ 2.15580595, -2.18491194],\n",
       "       [ 2.55309906, -2.18491194],\n",
       "       [ 2.95039217, -2.18491194],\n",
       "       [ 3.34768528, -2.18491194],\n",
       "       [ 3.74497839, -2.18491194],\n",
       "       [ 4.1422715 , -2.18491194],\n",
       "       [ 4.53956461, -2.18491194],\n",
       "       [ 0.96392661, -1.28346343],\n",
       "       [ 1.36121972, -1.28346343],\n",
       "       [ 1.75851283, -1.28346343],\n",
       "       [ 2.15580595, -1.28346343],\n",
       "       [ 2.55309906, -1.28346343],\n",
       "       [ 2.95039217, -1.28346343],\n",
       "       [ 3.34768528, -1.28346343],\n",
       "       [ 3.74497839, -1.28346343],\n",
       "       [ 4.1422715 , -1.28346343],\n",
       "       [ 4.53956461, -1.28346343],\n",
       "       [ 0.96392661, -0.38201491],\n",
       "       [ 1.36121972, -0.38201491],\n",
       "       [ 1.75851283, -0.38201491],\n",
       "       [ 2.15580595, -0.38201491],\n",
       "       [ 2.55309906, -0.38201491],\n",
       "       [ 2.95039217, -0.38201491],\n",
       "       [ 3.34768528, -0.38201491],\n",
       "       [ 3.74497839, -0.38201491],\n",
       "       [ 4.1422715 , -0.38201491],\n",
       "       [ 4.53956461, -0.38201491],\n",
       "       [ 0.96392661,  0.5194336 ],\n",
       "       [ 1.36121972,  0.5194336 ],\n",
       "       [ 1.75851283,  0.5194336 ],\n",
       "       [ 2.15580595,  0.5194336 ],\n",
       "       [ 2.55309906,  0.5194336 ],\n",
       "       [ 2.95039217,  0.5194336 ],\n",
       "       [ 3.34768528,  0.5194336 ],\n",
       "       [ 3.74497839,  0.5194336 ],\n",
       "       [ 4.1422715 ,  0.5194336 ],\n",
       "       [ 4.53956461,  0.5194336 ],\n",
       "       [ 0.96392661,  1.42088212],\n",
       "       [ 1.36121972,  1.42088212],\n",
       "       [ 1.75851283,  1.42088212],\n",
       "       [ 2.15580595,  1.42088212],\n",
       "       [ 2.55309906,  1.42088212],\n",
       "       [ 2.95039217,  1.42088212],\n",
       "       [ 3.34768528,  1.42088212],\n",
       "       [ 3.74497839,  1.42088212],\n",
       "       [ 4.1422715 ,  1.42088212],\n",
       "       [ 4.53956461,  1.42088212],\n",
       "       [ 0.96392661,  2.32233063],\n",
       "       [ 1.36121972,  2.32233063],\n",
       "       [ 1.75851283,  2.32233063],\n",
       "       [ 2.15580595,  2.32233063],\n",
       "       [ 2.55309906,  2.32233063],\n",
       "       [ 2.95039217,  2.32233063],\n",
       "       [ 3.34768528,  2.32233063],\n",
       "       [ 3.74497839,  2.32233063],\n",
       "       [ 4.1422715 ,  2.32233063],\n",
       "       [ 4.53956461,  2.32233063],\n",
       "       [ 0.96392661,  3.22377915],\n",
       "       [ 1.36121972,  3.22377915],\n",
       "       [ 1.75851283,  3.22377915],\n",
       "       [ 2.15580595,  3.22377915],\n",
       "       [ 2.55309906,  3.22377915],\n",
       "       [ 2.95039217,  3.22377915],\n",
       "       [ 3.34768528,  3.22377915],\n",
       "       [ 3.74497839,  3.22377915],\n",
       "       [ 4.1422715 ,  3.22377915],\n",
       "       [ 4.53956461,  3.22377915],\n",
       "       [ 0.96392661,  4.12522766],\n",
       "       [ 1.36121972,  4.12522766],\n",
       "       [ 1.75851283,  4.12522766],\n",
       "       [ 2.15580595,  4.12522766],\n",
       "       [ 2.55309906,  4.12522766],\n",
       "       [ 2.95039217,  4.12522766],\n",
       "       [ 3.34768528,  4.12522766],\n",
       "       [ 3.74497839,  4.12522766],\n",
       "       [ 4.1422715 ,  4.12522766],\n",
       "       [ 4.53956461,  4.12522766],\n",
       "       [ 0.96392661,  5.02667618],\n",
       "       [ 1.36121972,  5.02667618],\n",
       "       [ 1.75851283,  5.02667618],\n",
       "       [ 2.15580595,  5.02667618],\n",
       "       [ 2.55309906,  5.02667618],\n",
       "       [ 2.95039217,  5.02667618],\n",
       "       [ 3.34768528,  5.02667618],\n",
       "       [ 3.74497839,  5.02667618],\n",
       "       [ 4.1422715 ,  5.02667618],\n",
       "       [ 4.53956461,  5.02667618]])"
      ]
     },
     "execution_count": 19,
     "metadata": {},
     "output_type": "execute_result"
    }
   ],
   "source": [
    "### coordinates for XX1, XX2, from left bottom corner to right top corner\n",
    "x1x2 = np.vstack([XX1.ravel(), XX2.ravel()]).T\n",
    "x1x2"
   ]
  },
  {
   "cell_type": "code",
   "execution_count": 20,
   "id": "a00e49bf",
   "metadata": {},
   "outputs": [
    {
     "data": {
      "text/plain": [
       "array([[0.8878593 , 0.9049138 , 0.9196095 , 0.93220407, 0.9429479 ,\n",
       "        0.95207673, 0.95980704, 0.9663345 , 0.971833  , 0.9764554 ],\n",
       "       [0.8417053 , 0.8647095 , 0.884828  , 0.90229267, 0.9173565 ,\n",
       "        0.9302773 , 0.9413073 , 0.9506849 , 0.95863   , 0.9653417 ],\n",
       "       [0.7812362 , 0.8110553 , 0.8376545 , 0.8611502 , 0.8817256 ,\n",
       "        0.8996074 , 0.9150463 , 0.9283001 , 0.9396225 , 0.94925475],\n",
       "       [0.705743  , 0.7424602 , 0.7760497 , 0.8064006 , 0.83352053,\n",
       "        0.8575127 , 0.8785511 , 0.8968568 , 0.9126775 , 0.92627114],\n",
       "       [0.6169709 , 0.6594195 , 0.6994553 , 0.73666424, 0.7707763 ,\n",
       "        0.80165917, 0.8293027 , 0.8537962 , 0.87530357, 0.8940397 ],\n",
       "       [0.51964587, 0.56528056, 0.6098349 , 0.6526291 , 0.6930916 ,\n",
       "        0.73078513, 0.7654162 , 0.796831  , 0.8250005 , 0.8499997 ],\n",
       "       [0.42080665, 0.4661853 , 0.5121305 , 0.55787164, 0.6026516 ,\n",
       "        0.6457759 , 0.6866535 , 0.72482383, 0.75996983, 0.79191566],\n",
       "       [0.32793278, 0.3696887 , 0.41349024, 0.4587047 , 0.5046096 ,\n",
       "        0.55043685, 0.5954238 , 0.6388625 , 0.68014264, 0.71878135],\n",
       "       [0.24682157, 0.28259224, 0.3213353 , 0.36270452, 0.40621182,\n",
       "        0.45124274, 0.49708667, 0.54297954, 0.5881543 , 0.63189095],\n",
       "       [0.18038763, 0.20920463, 0.24127004, 0.27653155, 0.31480828,\n",
       "        0.3557777 , 0.39897436, 0.44380262, 0.48956493, 0.53550285]],\n",
       "      dtype=float32)"
      ]
     },
     "execution_count": 20,
     "metadata": {},
     "output_type": "execute_result"
    }
   ],
   "source": [
    "### prediction (heights) for each points in x1x2\n",
    "Z = perceptron(torch.tensor(x1x2, dtype=torch.float32)).detach().numpy().reshape(XX1.shape)\n",
    "Z"
   ]
  },
  {
   "cell_type": "code",
   "execution_count": 21,
   "id": "414fe7b8",
   "metadata": {},
   "outputs": [
    {
     "data": {
      "image/png": "[encoded data removed]",
      "text/plain": [
       "<Figure size 720x360 with 1 Axes>"
      ]
     },
     "metadata": {
      "needs_background": "light"
     },
     "output_type": "display_data"
    }
   ],
   "source": [
    "level = 0.5\n",
    "_, ax = plt.subplots(nrows=1, ncols=1, figsize=(10,5))\n",
    "margin=0.5\n",
    "ax.set_xlim(x_1_lim[0]-margin,x_1_lim[1]+margin)\n",
    "ax.set_ylim(x_2_lim[0]-margin,x_2_lim[1]+margin)\n",
    "for x_list in all_x:\n",
    "    ax.scatter(x_list[:,0],x_list[:,1], s=100)\n",
    "ax.contour(XX1, XX2, Z, colors='k', levels=[level], linestyles=['-'])\n",
    "plt.show()"
   ]
  },
  {
   "cell_type": "code",
   "execution_count": 22,
   "id": "985ebc83",
   "metadata": {},
   "outputs": [
    {
     "data": {
      "text/html": [
       "<div>\n",
       "<style scoped>\n",
       "    .dataframe tbody tr th:only-of-type {\n",
       "        vertical-align: middle;\n",
       "    }\n",
       "\n",
       "    .dataframe tbody tr th {\n",
       "        vertical-align: top;\n",
       "    }\n",
       "\n",
       "    .dataframe thead th {\n",
       "        text-align: right;\n",
       "    }\n",
       "</style>\n",
       "<table border=\"1\" class=\"dataframe\">\n",
       "  <thead>\n",
       "    <tr style=\"text-align: right;\">\n",
       "      <th></th>\n",
       "      <th>0.963927</th>\n",
       "      <th>1.361220</th>\n",
       "      <th>1.758513</th>\n",
       "      <th>2.155806</th>\n",
       "      <th>2.553099</th>\n",
       "      <th>2.950392</th>\n",
       "      <th>3.347685</th>\n",
       "      <th>3.744978</th>\n",
       "      <th>4.142271</th>\n",
       "      <th>4.539565</th>\n",
       "    </tr>\n",
       "  </thead>\n",
       "  <tbody>\n",
       "    <tr>\n",
       "      <th>-3.086360</th>\n",
       "      <td>0.887859</td>\n",
       "      <td>0.904914</td>\n",
       "      <td>0.919609</td>\n",
       "      <td>0.932204</td>\n",
       "      <td>0.942948</td>\n",
       "      <td>0.952077</td>\n",
       "      <td>0.959807</td>\n",
       "      <td>0.966335</td>\n",
       "      <td>0.971833</td>\n",
       "      <td>0.976455</td>\n",
       "    </tr>\n",
       "    <tr>\n",
       "      <th>-2.184912</th>\n",
       "      <td>0.841705</td>\n",
       "      <td>0.864709</td>\n",
       "      <td>0.884828</td>\n",
       "      <td>0.902293</td>\n",
       "      <td>0.917356</td>\n",
       "      <td>0.930277</td>\n",
       "      <td>0.941307</td>\n",
       "      <td>0.950685</td>\n",
       "      <td>0.958630</td>\n",
       "      <td>0.965342</td>\n",
       "    </tr>\n",
       "    <tr>\n",
       "      <th>-1.283463</th>\n",
       "      <td>0.781236</td>\n",
       "      <td>0.811055</td>\n",
       "      <td>0.837654</td>\n",
       "      <td>0.861150</td>\n",
       "      <td>0.881726</td>\n",
       "      <td>0.899607</td>\n",
       "      <td>0.915046</td>\n",
       "      <td>0.928300</td>\n",
       "      <td>0.939623</td>\n",
       "      <td>0.949255</td>\n",
       "    </tr>\n",
       "    <tr>\n",
       "      <th>-0.382015</th>\n",
       "      <td>0.705743</td>\n",
       "      <td>0.742460</td>\n",
       "      <td>0.776050</td>\n",
       "      <td>0.806401</td>\n",
       "      <td>0.833521</td>\n",
       "      <td>0.857513</td>\n",
       "      <td>0.878551</td>\n",
       "      <td>0.896857</td>\n",
       "      <td>0.912678</td>\n",
       "      <td>0.926271</td>\n",
       "    </tr>\n",
       "    <tr>\n",
       "      <th>0.519434</th>\n",
       "      <td>0.616971</td>\n",
       "      <td>0.659419</td>\n",
       "      <td>0.699455</td>\n",
       "      <td>0.736664</td>\n",
       "      <td>0.770776</td>\n",
       "      <td>0.801659</td>\n",
       "      <td>0.829303</td>\n",
       "      <td>0.853796</td>\n",
       "      <td>0.875304</td>\n",
       "      <td>0.894040</td>\n",
       "    </tr>\n",
       "    <tr>\n",
       "      <th>1.420882</th>\n",
       "      <td>0.519646</td>\n",
       "      <td>0.565281</td>\n",
       "      <td>0.609835</td>\n",
       "      <td>0.652629</td>\n",
       "      <td>0.693092</td>\n",
       "      <td>0.730785</td>\n",
       "      <td>0.765416</td>\n",
       "      <td>0.796831</td>\n",
       "      <td>0.825001</td>\n",
       "      <td>0.850000</td>\n",
       "    </tr>\n",
       "    <tr>\n",
       "      <th>2.322331</th>\n",
       "      <td>0.420807</td>\n",
       "      <td>0.466185</td>\n",
       "      <td>0.512130</td>\n",
       "      <td>0.557872</td>\n",
       "      <td>0.602652</td>\n",
       "      <td>0.645776</td>\n",
       "      <td>0.686653</td>\n",
       "      <td>0.724824</td>\n",
       "      <td>0.759970</td>\n",
       "      <td>0.791916</td>\n",
       "    </tr>\n",
       "    <tr>\n",
       "      <th>3.223779</th>\n",
       "      <td>0.327933</td>\n",
       "      <td>0.369689</td>\n",
       "      <td>0.413490</td>\n",
       "      <td>0.458705</td>\n",
       "      <td>0.504610</td>\n",
       "      <td>0.550437</td>\n",
       "      <td>0.595424</td>\n",
       "      <td>0.638862</td>\n",
       "      <td>0.680143</td>\n",
       "      <td>0.718781</td>\n",
       "    </tr>\n",
       "    <tr>\n",
       "      <th>4.125228</th>\n",
       "      <td>0.246822</td>\n",
       "      <td>0.282592</td>\n",
       "      <td>0.321335</td>\n",
       "      <td>0.362705</td>\n",
       "      <td>0.406212</td>\n",
       "      <td>0.451243</td>\n",
       "      <td>0.497087</td>\n",
       "      <td>0.542980</td>\n",
       "      <td>0.588154</td>\n",
       "      <td>0.631891</td>\n",
       "    </tr>\n",
       "    <tr>\n",
       "      <th>5.026676</th>\n",
       "      <td>0.180388</td>\n",
       "      <td>0.209205</td>\n",
       "      <td>0.241270</td>\n",
       "      <td>0.276532</td>\n",
       "      <td>0.314808</td>\n",
       "      <td>0.355778</td>\n",
       "      <td>0.398974</td>\n",
       "      <td>0.443803</td>\n",
       "      <td>0.489565</td>\n",
       "      <td>0.535503</td>\n",
       "    </tr>\n",
       "  </tbody>\n",
       "</table>\n",
       "</div>"
      ],
      "text/plain": [
       "           0.963927  1.361220  1.758513  2.155806  2.553099  2.950392  \\\n",
       "-3.086360  0.887859  0.904914  0.919609  0.932204  0.942948  0.952077   \n",
       "-2.184912  0.841705  0.864709  0.884828  0.902293  0.917356  0.930277   \n",
       "-1.283463  0.781236  0.811055  0.837654  0.861150  0.881726  0.899607   \n",
       "-0.382015  0.705743  0.742460  0.776050  0.806401  0.833521  0.857513   \n",
       " 0.519434  0.616971  0.659419  0.699455  0.736664  0.770776  0.801659   \n",
       " 1.420882  0.519646  0.565281  0.609835  0.652629  0.693092  0.730785   \n",
       " 2.322331  0.420807  0.466185  0.512130  0.557872  0.602652  0.645776   \n",
       " 3.223779  0.327933  0.369689  0.413490  0.458705  0.504610  0.550437   \n",
       " 4.125228  0.246822  0.282592  0.321335  0.362705  0.406212  0.451243   \n",
       " 5.026676  0.180388  0.209205  0.241270  0.276532  0.314808  0.355778   \n",
       "\n",
       "           3.347685  3.744978  4.142271  4.539565  \n",
       "-3.086360  0.959807  0.966335  0.971833  0.976455  \n",
       "-2.184912  0.941307  0.950685  0.958630  0.965342  \n",
       "-1.283463  0.915046  0.928300  0.939623  0.949255  \n",
       "-0.382015  0.878551  0.896857  0.912678  0.926271  \n",
       " 0.519434  0.829303  0.853796  0.875304  0.894040  \n",
       " 1.420882  0.765416  0.796831  0.825001  0.850000  \n",
       " 2.322331  0.686653  0.724824  0.759970  0.791916  \n",
       " 3.223779  0.595424  0.638862  0.680143  0.718781  \n",
       " 4.125228  0.497087  0.542980  0.588154  0.631891  \n",
       " 5.026676  0.398974  0.443803  0.489565  0.535503  "
      ]
     },
     "execution_count": 22,
     "metadata": {},
     "output_type": "execute_result"
    }
   ],
   "source": [
    "### the numbers in the tables are predictions(heights)\n",
    "### column names are the x1 coordinates\n",
    "### index names are the x2 coordinates\n",
    "df         = pd.DataFrame(Z)\n",
    "df.columns = xx1\n",
    "df.index   = xx2\n",
    "df"
   ]
  },
  {
   "cell_type": "code",
   "execution_count": 23,
   "id": "598235ed",
   "metadata": {},
   "outputs": [
    {
     "data": {
      "text/plain": [
       "[(3.2237791485256615, 2.5530990560849505),\n",
       " (4.125227663252089, 3.3476852774620056)]"
      ]
     },
     "execution_count": 23,
     "metadata": {},
     "output_type": "execute_result"
    }
   ],
   "source": [
    "### Find the points that are close to the prespecified height level (0.5)\n",
    "target_value = 0.5\n",
    "tolerance    = 0.01\n",
    "points = []\n",
    "for column in df.columns:\n",
    "    for index in df.index:\n",
    "        value = df.loc[index, column]\n",
    "        if abs(value - target_value) < tolerance:\n",
    "            points.append((index, column))\n",
    "points"
   ]
  },
  {
   "cell_type": "code",
   "execution_count": 24,
   "id": "c4dc1c80",
   "metadata": {},
   "outputs": [
    {
     "data": {
      "image/png": "[encoded data removed]",
      "text/plain": [
       "<Figure size 720x360 with 1 Axes>"
      ]
     },
     "metadata": {
      "needs_background": "light"
     },
     "output_type": "display_data"
    }
   ],
   "source": [
    "##### As seen, the contour lines is close to the line generated by the green points\n",
    "_, ax = plt.subplots(nrows=1, ncols=1, figsize=(10,5))\n",
    "margin=0.5\n",
    "ax.set_xlim(x_1_lim[0]-margin,x_1_lim[1]+margin)\n",
    "ax.set_ylim(x_2_lim[0]-margin,x_2_lim[1]+margin)\n",
    "for x_list in all_x:\n",
    "    ax.scatter(x_list[:,0],x_list[:,1], s=100)\n",
    "ax.contour(XX1, XX2, Z, colors='k', levels=[0.5], linestyles=['-'])\n",
    "for coord in points:\n",
    "    y, x = coord\n",
    "    ax.scatter(x, y, color='green',s=100)\n",
    "plt.show()"
   ]
  },
  {
   "cell_type": "code",
   "execution_count": 25,
   "id": "9dc20a4d",
   "metadata": {},
   "outputs": [
    {
     "data": {
      "image/png": "[encoded data removed]",
      "text/plain": [
       "<Figure size 720x360 with 1 Axes>"
      ]
     },
     "metadata": {
      "needs_background": "light"
     },
     "output_type": "display_data"
    }
   ],
   "source": [
    "### when using a more granular for np.linspace\n",
    "xx1 = np.linspace(x_1_lim[0], x_1_lim[1], 50)\n",
    "xx2 = np.linspace(x_2_lim[0], x_2_lim[1], 50)\n",
    "XX1, XX2 = np.meshgrid(xx1, xx2)\n",
    "x1x2 = np.vstack([XX1.ravel(), XX2.ravel()]).T\n",
    "Z = perceptron(torch.tensor(x1x2, dtype=torch.float32)).detach().numpy().reshape(XX1.shape)\n",
    "df         = pd.DataFrame(Z)\n",
    "df.columns = xx1\n",
    "df.index   = xx2\n",
    "### Find the points that are close to the prespecified height level (0.5)\n",
    "target_value = 0.5\n",
    "tolerance    = 0.005\n",
    "points = []\n",
    "for column in df.columns:\n",
    "    for index in df.index:\n",
    "        value = df.loc[index, column]\n",
    "        if abs(value - target_value) < tolerance:\n",
    "            points.append((index, column))\n",
    "_, ax = plt.subplots(nrows=1, ncols=1, figsize=(10,5))\n",
    "margin=0.5\n",
    "ax.set_xlim(x_1_lim[0]-margin,x_1_lim[1]+margin)\n",
    "ax.set_ylim(x_2_lim[0]-margin,x_2_lim[1]+margin)\n",
    "for x_list in all_x:\n",
    "    ax.scatter(x_list[:,0],x_list[:,1], s=100)\n",
    "ax.contour(XX1, XX2, Z, colors='k', levels=[0.5], linestyles=['-'])\n",
    "for coord in points:\n",
    "    y, x = coord\n",
    "    ax.scatter(x, y, color='green',s=10)\n",
    "plt.show()"
   ]
  }
 ],
 "metadata": {
  "kernelspec": {
   "display_name": "Python 3 (ipykernel)",
   "language": "python",
   "name": "python3"
  },
  "language_info": {
   "codemirror_mode": {
    "name": "ipython",
    "version": 3
   },
   "file_extension": ".py",
   "mimetype": "text/x-python",
   "name": "python",
   "nbconvert_exporter": "python",
   "pygments_lexer": "ipython3",
   "version": "3.9.7"
  }
 },
 "nbformat": 4,
 "nbformat_minor": 5
}
