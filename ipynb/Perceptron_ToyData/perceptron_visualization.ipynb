{
 "cells": [
  {
   "cell_type": "code",
   "execution_count": 1,
   "id": "d440d69a",
   "metadata": {},
   "outputs": [],
   "source": [
    "import matplotlib.pyplot as plt\n",
    "import numpy as np\n",
    "import torch\n",
    "import torch\n",
    "import torch.nn as nn\n",
    "import pandas as pd"
   ]
  },
  {
   "cell_type": "markdown",
   "id": "1d393297",
   "metadata": {},
   "source": [
    "# 1. Define the Perceptron Function"
   ]
  },
  {
   "cell_type": "code",
   "execution_count": 2,
   "id": "1c808e84",
   "metadata": {},
   "outputs": [],
   "source": [
    "class Perceptron(nn.Module):\n",
    "    \"\"\" A Perceptron is one Linear layer \"\"\"\n",
    "    def __init__(self, input_dim):\n",
    "        \"\"\"\n",
    "        Args:\n",
    "            input_dim (int): size of the input features\n",
    "        \"\"\"\n",
    "        super(Perceptron, self).__init__()\n",
    "        self.fc1 = nn.Linear(input_dim, 1)\n",
    "\n",
    "    def forward(self, x_in):\n",
    "        \"\"\"The forward pass of the MLP\n",
    "        Args:\n",
    "            x_in (torch.Tensor): an input data tensor.\n",
    "            x_in.shape should be (batch, input_dim)\n",
    "        Returns:\n",
    "            the resulting tensor. tensor.shape should be (batch, 1)\n",
    "        \"\"\"\n",
    "        return torch.sigmoid(self.fc1(x_in))\n",
    "    \n",
    "perceptron = Perceptron(input_dim=2)"
   ]
  },
  {
   "cell_type": "markdown",
   "id": "d0447ded",
   "metadata": {},
   "source": [
    "# 2. Data Generation"
   ]
  },
  {
   "cell_type": "code",
   "execution_count": 3,
   "id": "a5a49f2f",
   "metadata": {},
   "outputs": [],
   "source": [
    "left_center  = (3, 3)\n",
    "right_center = (3, -2)"
   ]
  },
  {
   "cell_type": "code",
   "execution_count": 4,
   "id": "ea54bd17",
   "metadata": {},
   "outputs": [],
   "source": [
    "def get_toy_data(batch_size, left_center=left_center, right_center=right_center):\n",
    "    x_data = []\n",
    "    y_targets = np.zeros(batch_size)\n",
    "    for batch_i in range(batch_size):\n",
    "        if np.random.random() > 0.5:\n",
    "            x_data.append(np.random.normal(loc=left_center))\n",
    "        else:\n",
    "            x_data.append(np.random.normal(loc=right_center))\n",
    "            y_targets[batch_i] = 1\n",
    "    return torch.tensor(x_data, dtype=torch.float32), torch.tensor(y_targets, dtype=torch.float32)"
   ]
  },
  {
   "cell_type": "markdown",
   "id": "97fb2147",
   "metadata": {},
   "source": [
    "### Sample size = 20 "
   ]
  },
  {
   "cell_type": "code",
   "execution_count": 5,
   "id": "6fee5ac3",
   "metadata": {},
   "outputs": [],
   "source": [
    "batch_size     = 30\n",
    "x_data, y_data = get_toy_data(batch_size=batch_size)"
   ]
  },
  {
   "cell_type": "code",
   "execution_count": 6,
   "id": "dca9bc88",
   "metadata": {},
   "outputs": [
    {
     "data": {
      "text/plain": [
       "tensor([[ 2.9870, -2.1159],\n",
       "        [ 5.2115,  2.7880],\n",
       "        [ 1.8059,  1.1563],\n",
       "        [ 0.6657,  3.3411],\n",
       "        [ 3.3189, -0.8103],\n",
       "        [ 1.9530, -1.1085],\n",
       "        [ 3.3276, -2.0632],\n",
       "        [ 1.9946,  4.4146],\n",
       "        [ 1.6985,  4.0204],\n",
       "        [ 2.8996,  3.1741],\n",
       "        [ 3.7474,  1.5733],\n",
       "        [ 1.4555,  3.7267],\n",
       "        [ 3.6520, -0.9640],\n",
       "        [ 1.6826, -2.5895],\n",
       "        [ 1.9806, -2.5202],\n",
       "        [ 3.5186, -1.7518],\n",
       "        [ 3.9205, -2.9297],\n",
       "        [ 2.8034, -2.2658],\n",
       "        [ 5.5705, -1.6240],\n",
       "        [ 4.0161,  2.1242],\n",
       "        [ 3.3275, -1.6269],\n",
       "        [ 1.9290,  1.3478],\n",
       "        [ 2.5401, -2.2868],\n",
       "        [ 2.6578,  4.3966],\n",
       "        [ 4.1407, -0.5111],\n",
       "        [ 2.8596,  2.6130],\n",
       "        [ 1.7759, -1.7181],\n",
       "        [ 3.7501, -0.4175],\n",
       "        [ 2.5503,  3.0371],\n",
       "        [ 2.1968, -3.4692]])"
      ]
     },
     "execution_count": 6,
     "metadata": {},
     "output_type": "execute_result"
    }
   ],
   "source": [
    "x_data"
   ]
  },
  {
   "cell_type": "code",
   "execution_count": 7,
   "id": "b9772569",
   "metadata": {},
   "outputs": [
    {
     "data": {
      "text/plain": [
       "tensor([1., 0., 0., 0., 1., 1., 1., 0., 0., 0., 0., 0., 1., 1., 1., 1., 1., 1.,\n",
       "        1., 0., 1., 0., 1., 0., 1., 0., 1., 1., 0., 1.])"
      ]
     },
     "execution_count": 7,
     "metadata": {},
     "output_type": "execute_result"
    }
   ],
   "source": [
    "y_data"
   ]
  },
  {
   "cell_type": "markdown",
   "id": "5992e09d",
   "metadata": {},
   "source": [
    "# 3. Create the Contour Lines"
   ]
  },
  {
   "cell_type": "markdown",
   "id": "e4daccf8",
   "metadata": {},
   "source": [
    "### Turning the tensor data to arrays"
   ]
  },
  {
   "cell_type": "code",
   "execution_count": 8,
   "id": "cbd7bfd9",
   "metadata": {},
   "outputs": [],
   "source": [
    "n_classes=2\n",
    "x_data    = x_data.numpy()\n",
    "y_data    = y_data.numpy().astype(np.int32)"
   ]
  },
  {
   "cell_type": "code",
   "execution_count": 9,
   "id": "f0b7f469",
   "metadata": {},
   "outputs": [
    {
     "data": {
      "text/plain": [
       "[[array([5.211461 , 2.7879508], dtype=float32),\n",
       "  array([1.8058863, 1.156267 ], dtype=float32),\n",
       "  array([0.66567165, 3.341065  ], dtype=float32),\n",
       "  array([1.9946182, 4.414614 ], dtype=float32),\n",
       "  array([1.6985282, 4.020423 ], dtype=float32),\n",
       "  array([2.8996081, 3.17414  ], dtype=float32),\n",
       "  array([3.747432 , 1.5733197], dtype=float32),\n",
       "  array([1.4555323, 3.7266657], dtype=float32),\n",
       "  array([4.016105 , 2.1241968], dtype=float32),\n",
       "  array([1.9290322, 1.347793 ], dtype=float32),\n",
       "  array([2.6577723, 4.3965616], dtype=float32),\n",
       "  array([2.8596265, 2.613038 ], dtype=float32),\n",
       "  array([2.5503485, 3.0370507], dtype=float32)],\n",
       " [array([ 2.9870348, -2.1158502], dtype=float32),\n",
       "  array([ 3.3189335, -0.810321 ], dtype=float32),\n",
       "  array([ 1.9530416, -1.1085159], dtype=float32),\n",
       "  array([ 3.3276408, -2.063221 ], dtype=float32),\n",
       "  array([ 3.6520295 , -0.96403044], dtype=float32),\n",
       "  array([ 1.6825824, -2.5895226], dtype=float32),\n",
       "  array([ 1.9806161, -2.5202441], dtype=float32),\n",
       "  array([ 3.5186498, -1.751843 ], dtype=float32),\n",
       "  array([ 3.920495 , -2.9297028], dtype=float32),\n",
       "  array([ 2.8034234, -2.2657547], dtype=float32),\n",
       "  array([ 5.5704627, -1.6239905], dtype=float32),\n",
       "  array([ 3.3275433, -1.626911 ], dtype=float32),\n",
       "  array([ 2.5401394, -2.286839 ], dtype=float32),\n",
       "  array([ 4.1406703, -0.5110934], dtype=float32),\n",
       "  array([ 1.7759105, -1.7181116], dtype=float32),\n",
       "  array([ 3.750066  , -0.41752535], dtype=float32),\n",
       "  array([ 2.1968398, -3.4692118], dtype=float32)]]"
      ]
     },
     "execution_count": 9,
     "metadata": {},
     "output_type": "execute_result"
    }
   ],
   "source": [
    "### all_x[0] stores the x coordinates for y=0 observations \n",
    "### all_x[1] stores the x coordinates for y=1 observations \n",
    "\n",
    "all_x = [[] for _ in range(n_classes)]\n",
    "for x_i, y_i in zip(x_data,y_data):\n",
    "    all_x[y_i].append(x_i)\n",
    "    \n",
    "all_x"
   ]
  },
  {
   "cell_type": "code",
   "execution_count": 10,
   "id": "8d58c5f7",
   "metadata": {},
   "outputs": [
    {
     "data": {
      "text/plain": [
       "[array([[5.211461  , 2.7879508 ],\n",
       "        [1.8058863 , 1.156267  ],\n",
       "        [0.66567165, 3.341065  ],\n",
       "        [1.9946182 , 4.414614  ],\n",
       "        [1.6985282 , 4.020423  ],\n",
       "        [2.8996081 , 3.17414   ],\n",
       "        [3.747432  , 1.5733197 ],\n",
       "        [1.4555323 , 3.7266657 ],\n",
       "        [4.016105  , 2.1241968 ],\n",
       "        [1.9290322 , 1.347793  ],\n",
       "        [2.6577723 , 4.3965616 ],\n",
       "        [2.8596265 , 2.613038  ],\n",
       "        [2.5503485 , 3.0370507 ]], dtype=float32),\n",
       " array([[ 2.9870348 , -2.1158502 ],\n",
       "        [ 3.3189335 , -0.810321  ],\n",
       "        [ 1.9530416 , -1.1085159 ],\n",
       "        [ 3.3276408 , -2.063221  ],\n",
       "        [ 3.6520295 , -0.96403044],\n",
       "        [ 1.6825824 , -2.5895226 ],\n",
       "        [ 1.9806161 , -2.5202441 ],\n",
       "        [ 3.5186498 , -1.751843  ],\n",
       "        [ 3.920495  , -2.9297028 ],\n",
       "        [ 2.8034234 , -2.2657547 ],\n",
       "        [ 5.5704627 , -1.6239905 ],\n",
       "        [ 3.3275433 , -1.626911  ],\n",
       "        [ 2.5401394 , -2.286839  ],\n",
       "        [ 4.1406703 , -0.5110934 ],\n",
       "        [ 1.7759105 , -1.7181116 ],\n",
       "        [ 3.750066  , -0.41752535],\n",
       "        [ 2.1968398 , -3.4692118 ]], dtype=float32)]"
      ]
     },
     "execution_count": 10,
     "metadata": {},
     "output_type": "execute_result"
    }
   ],
   "source": [
    "all_x = [np.stack(x_list) for x_list in all_x]\n",
    "all_x"
   ]
  },
  {
   "cell_type": "code",
   "execution_count": 11,
   "id": "6c4b0cb0",
   "metadata": {},
   "outputs": [],
   "source": [
    "x_1_lim = (min([x_list[:,0].min() for x_list in all_x]), max([x_list[:,0].max() for x_list in all_x]))\n",
    "x_2_lim = (min([x_list[:,1].min() for x_list in all_x]), max([x_list[:,1].max() for x_list in all_x]))"
   ]
  },
  {
   "cell_type": "code",
   "execution_count": 12,
   "id": "9e0fb945",
   "metadata": {},
   "outputs": [
    {
     "data": {
      "text/plain": [
       "(0.66567165, 5.5704627)"
      ]
     },
     "execution_count": 12,
     "metadata": {},
     "output_type": "execute_result"
    }
   ],
   "source": [
    "### the min and max for x1\n",
    "x_1_lim"
   ]
  },
  {
   "cell_type": "code",
   "execution_count": 13,
   "id": "48f349c4",
   "metadata": {},
   "outputs": [
    {
     "data": {
      "text/plain": [
       "(-3.4692118, 4.414614)"
      ]
     },
     "execution_count": 13,
     "metadata": {},
     "output_type": "execute_result"
    }
   ],
   "source": [
    "### the min and max for x2\n",
    "x_2_lim"
   ]
  },
  {
   "cell_type": "code",
   "execution_count": 14,
   "id": "d3ae441d",
   "metadata": {},
   "outputs": [],
   "source": [
    "xx1 = np.linspace(x_1_lim[0], x_1_lim[1], 10)\n",
    "xx2 = np.linspace(x_2_lim[0], x_2_lim[1], 10)"
   ]
  },
  {
   "cell_type": "code",
   "execution_count": 15,
   "id": "33d8485b",
   "metadata": {},
   "outputs": [
    {
     "data": {
      "text/plain": [
       "array([0.66567165, 1.21064843, 1.75562521, 2.300602  , 2.84557878,\n",
       "       3.39055557, 3.93553235, 4.48050914, 5.02548592, 5.5704627 ])"
      ]
     },
     "execution_count": 15,
     "metadata": {},
     "output_type": "execute_result"
    }
   ],
   "source": [
    "### Evenly spaced numbers over x_1_lim[0] and x_1_lim[1]\n",
    "xx1"
   ]
  },
  {
   "cell_type": "code",
   "execution_count": 16,
   "id": "4d7930bd",
   "metadata": {},
   "outputs": [
    {
     "data": {
      "text/plain": [
       "array([-3.46921182, -2.59323115, -1.71725048, -0.84126981,  0.03471086,\n",
       "        0.91069153,  1.78667219,  2.66265286,  3.53863353,  4.4146142 ])"
      ]
     },
     "execution_count": 16,
     "metadata": {},
     "output_type": "execute_result"
    }
   ],
   "source": [
    "### Evenly spaced numbers over x_2_lim[0] and x_2_lim[1]\n",
    "xx2"
   ]
  },
  {
   "cell_type": "code",
   "execution_count": 17,
   "id": "30d91d3a",
   "metadata": {},
   "outputs": [],
   "source": [
    "XX1, XX2 = np.meshgrid(xx1, xx2)"
   ]
  },
  {
   "cell_type": "code",
   "execution_count": 18,
   "id": "b632ca62",
   "metadata": {},
   "outputs": [
    {
     "data": {
      "image/png": "[encoded data removed]",
      "text/plain": [
       "<Figure size 432x288 with 1 Axes>"
      ]
     },
     "metadata": {
      "needs_background": "light"
     },
     "output_type": "display_data"
    }
   ],
   "source": [
    "### A list of coordinate matrices from coordinate vectors.\n",
    "plt.plot(XX1, XX2, marker='o', color='k', linestyle='none')\n",
    "plt.xlabel(\"X1\")\n",
    "plt.ylabel(\"X2\")\n",
    "plt.show()"
   ]
  },
  {
   "cell_type": "code",
   "execution_count": 19,
   "id": "38b4674e",
   "metadata": {},
   "outputs": [
    {
     "data": {
      "text/plain": [
       "array([[ 0.66567165, -3.46921182],\n",
       "       [ 1.21064843, -3.46921182],\n",
       "       [ 1.75562521, -3.46921182],\n",
       "       [ 2.300602  , -3.46921182],\n",
       "       [ 2.84557878, -3.46921182],\n",
       "       [ 3.39055557, -3.46921182],\n",
       "       [ 3.93553235, -3.46921182],\n",
       "       [ 4.48050914, -3.46921182],\n",
       "       [ 5.02548592, -3.46921182],\n",
       "       [ 5.5704627 , -3.46921182],\n",
       "       [ 0.66567165, -2.59323115],\n",
       "       [ 1.21064843, -2.59323115],\n",
       "       [ 1.75562521, -2.59323115],\n",
       "       [ 2.300602  , -2.59323115],\n",
       "       [ 2.84557878, -2.59323115],\n",
       "       [ 3.39055557, -2.59323115],\n",
       "       [ 3.93553235, -2.59323115],\n",
       "       [ 4.48050914, -2.59323115],\n",
       "       [ 5.02548592, -2.59323115],\n",
       "       [ 5.5704627 , -2.59323115],\n",
       "       [ 0.66567165, -1.71725048],\n",
       "       [ 1.21064843, -1.71725048],\n",
       "       [ 1.75562521, -1.71725048],\n",
       "       [ 2.300602  , -1.71725048],\n",
       "       [ 2.84557878, -1.71725048],\n",
       "       [ 3.39055557, -1.71725048],\n",
       "       [ 3.93553235, -1.71725048],\n",
       "       [ 4.48050914, -1.71725048],\n",
       "       [ 5.02548592, -1.71725048],\n",
       "       [ 5.5704627 , -1.71725048],\n",
       "       [ 0.66567165, -0.84126981],\n",
       "       [ 1.21064843, -0.84126981],\n",
       "       [ 1.75562521, -0.84126981],\n",
       "       [ 2.300602  , -0.84126981],\n",
       "       [ 2.84557878, -0.84126981],\n",
       "       [ 3.39055557, -0.84126981],\n",
       "       [ 3.93553235, -0.84126981],\n",
       "       [ 4.48050914, -0.84126981],\n",
       "       [ 5.02548592, -0.84126981],\n",
       "       [ 5.5704627 , -0.84126981],\n",
       "       [ 0.66567165,  0.03471086],\n",
       "       [ 1.21064843,  0.03471086],\n",
       "       [ 1.75562521,  0.03471086],\n",
       "       [ 2.300602  ,  0.03471086],\n",
       "       [ 2.84557878,  0.03471086],\n",
       "       [ 3.39055557,  0.03471086],\n",
       "       [ 3.93553235,  0.03471086],\n",
       "       [ 4.48050914,  0.03471086],\n",
       "       [ 5.02548592,  0.03471086],\n",
       "       [ 5.5704627 ,  0.03471086],\n",
       "       [ 0.66567165,  0.91069153],\n",
       "       [ 1.21064843,  0.91069153],\n",
       "       [ 1.75562521,  0.91069153],\n",
       "       [ 2.300602  ,  0.91069153],\n",
       "       [ 2.84557878,  0.91069153],\n",
       "       [ 3.39055557,  0.91069153],\n",
       "       [ 3.93553235,  0.91069153],\n",
       "       [ 4.48050914,  0.91069153],\n",
       "       [ 5.02548592,  0.91069153],\n",
       "       [ 5.5704627 ,  0.91069153],\n",
       "       [ 0.66567165,  1.78667219],\n",
       "       [ 1.21064843,  1.78667219],\n",
       "       [ 1.75562521,  1.78667219],\n",
       "       [ 2.300602  ,  1.78667219],\n",
       "       [ 2.84557878,  1.78667219],\n",
       "       [ 3.39055557,  1.78667219],\n",
       "       [ 3.93553235,  1.78667219],\n",
       "       [ 4.48050914,  1.78667219],\n",
       "       [ 5.02548592,  1.78667219],\n",
       "       [ 5.5704627 ,  1.78667219],\n",
       "       [ 0.66567165,  2.66265286],\n",
       "       [ 1.21064843,  2.66265286],\n",
       "       [ 1.75562521,  2.66265286],\n",
       "       [ 2.300602  ,  2.66265286],\n",
       "       [ 2.84557878,  2.66265286],\n",
       "       [ 3.39055557,  2.66265286],\n",
       "       [ 3.93553235,  2.66265286],\n",
       "       [ 4.48050914,  2.66265286],\n",
       "       [ 5.02548592,  2.66265286],\n",
       "       [ 5.5704627 ,  2.66265286],\n",
       "       [ 0.66567165,  3.53863353],\n",
       "       [ 1.21064843,  3.53863353],\n",
       "       [ 1.75562521,  3.53863353],\n",
       "       [ 2.300602  ,  3.53863353],\n",
       "       [ 2.84557878,  3.53863353],\n",
       "       [ 3.39055557,  3.53863353],\n",
       "       [ 3.93553235,  3.53863353],\n",
       "       [ 4.48050914,  3.53863353],\n",
       "       [ 5.02548592,  3.53863353],\n",
       "       [ 5.5704627 ,  3.53863353],\n",
       "       [ 0.66567165,  4.4146142 ],\n",
       "       [ 1.21064843,  4.4146142 ],\n",
       "       [ 1.75562521,  4.4146142 ],\n",
       "       [ 2.300602  ,  4.4146142 ],\n",
       "       [ 2.84557878,  4.4146142 ],\n",
       "       [ 3.39055557,  4.4146142 ],\n",
       "       [ 3.93553235,  4.4146142 ],\n",
       "       [ 4.48050914,  4.4146142 ],\n",
       "       [ 5.02548592,  4.4146142 ],\n",
       "       [ 5.5704627 ,  4.4146142 ]])"
      ]
     },
     "execution_count": 19,
     "metadata": {},
     "output_type": "execute_result"
    }
   ],
   "source": [
    "### coordinates for XX1, XX2, from left bottom corner to right top corner\n",
    "x1x2 = np.vstack([XX1.ravel(), XX2.ravel()]).T\n",
    "x1x2"
   ]
  },
  {
   "cell_type": "code",
   "execution_count": 20,
   "id": "a00e49bf",
   "metadata": {},
   "outputs": [
    {
     "data": {
      "text/plain": [
       "array([[0.810482  , 0.7541396 , 0.6875053 , 0.61210054, 0.5309152 ,\n",
       "        0.4480598 , 0.36799118, 0.2945938 , 0.2304969 , 0.17684959],\n",
       "       [0.74012524, 0.6713479 , 0.59434485, 0.5124036 , 0.42979032,\n",
       "        0.35091072, 0.27941403, 0.21760097, 0.16630651, 0.1251691 ],\n",
       "       [0.65477467, 0.57633895, 0.49385795, 0.41170996, 0.33420384,\n",
       "        0.26472282, 0.2052342 , 0.15627259, 0.11726808, 0.08699501],\n",
       "       [0.55812806, 0.47532922, 0.39386487, 0.31790277, 0.25053552,\n",
       "        0.19339648, 0.14673758, 0.10980317, 0.08127976, 0.05966918],\n",
       "       [0.45686808, 0.37629855, 0.30203614, 0.23686361, 0.18208514,\n",
       "        0.13768935, 0.10275817, 0.07590874, 0.05563972, 0.04054542],\n",
       "       [0.35905153, 0.28662863, 0.22371507, 0.17129487, 0.12911467,\n",
       "        0.09611636, 0.0708653 , 0.05186736, 0.03775555, 0.02737236],\n",
       "       [0.27170113, 0.21109453, 0.16101813, 0.12099902, 0.08986084,\n",
       "        0.06613296, 0.04833771, 0.0351506 , 0.02546485, 0.01839711],\n",
       "       [0.19900344, 0.15124545, 0.1133271 , 0.08397464, 0.06169565,\n",
       "        0.04503682, 0.03271929, 0.02368702, 0.01710406, 0.01232749],\n",
       "       [0.14196552, 0.10608295, 0.07844076, 0.05753774, 0.04195141,\n",
       "        0.03045082, 0.02203052, 0.01590042, 0.01145607, 0.00824356],\n",
       "       [0.09925001, 0.07324241, 0.05364401, 0.03906872, 0.02833503,\n",
       "        0.02048743, 0.01478021, 0.01064559, 0.00765859, 0.00550504]],\n",
       "      dtype=float32)"
      ]
     },
     "execution_count": 20,
     "metadata": {},
     "output_type": "execute_result"
    }
   ],
   "source": [
    "### prediction (heights) for each points in x1x2\n",
    "Z = perceptron(torch.tensor(x1x2, dtype=torch.float32)).detach().numpy().reshape(XX1.shape)\n",
    "Z"
   ]
  },
  {
   "cell_type": "code",
   "execution_count": 21,
   "id": "414fe7b8",
   "metadata": {},
   "outputs": [
    {
     "data": {
      "image/png": "[encoded data removed]",
      "text/plain": [
       "<Figure size 720x360 with 1 Axes>"
      ]
     },
     "metadata": {
      "needs_background": "light"
     },
     "output_type": "display_data"
    }
   ],
   "source": [
    "level = 0.5\n",
    "_, ax = plt.subplots(nrows=1, ncols=1, figsize=(10,5))\n",
    "margin=0.5\n",
    "ax.set_xlim(x_1_lim[0]-margin,x_1_lim[1]+margin)\n",
    "ax.set_ylim(x_2_lim[0]-margin,x_2_lim[1]+margin)\n",
    "for x_list in all_x:\n",
    "    ax.scatter(x_list[:,0],x_list[:,1], s=100)\n",
    "    \n",
    "ax.contour(XX1, XX2, Z, colors='k', levels=[level], linestyles=['-'])\n",
    "plt.show()"
   ]
  },
  {
   "cell_type": "code",
   "execution_count": 22,
   "id": "985ebc83",
   "metadata": {},
   "outputs": [
    {
     "data": {
      "text/html": [
       "<div>\n",
       "<style scoped>\n",
       "    .dataframe tbody tr th:only-of-type {\n",
       "        vertical-align: middle;\n",
       "    }\n",
       "\n",
       "    .dataframe tbody tr th {\n",
       "        vertical-align: top;\n",
       "    }\n",
       "\n",
       "    .dataframe thead th {\n",
       "        text-align: right;\n",
       "    }\n",
       "</style>\n",
       "<table border=\"1\" class=\"dataframe\">\n",
       "  <thead>\n",
       "    <tr style=\"text-align: right;\">\n",
       "      <th></th>\n",
       "      <th>0.665672</th>\n",
       "      <th>1.210648</th>\n",
       "      <th>1.755625</th>\n",
       "      <th>2.300602</th>\n",
       "      <th>2.845579</th>\n",
       "      <th>3.390556</th>\n",
       "      <th>3.935532</th>\n",
       "      <th>4.480509</th>\n",
       "      <th>5.025486</th>\n",
       "      <th>5.570463</th>\n",
       "    </tr>\n",
       "  </thead>\n",
       "  <tbody>\n",
       "    <tr>\n",
       "      <th>-3.469212</th>\n",
       "      <td>0.810482</td>\n",
       "      <td>0.754140</td>\n",
       "      <td>0.687505</td>\n",
       "      <td>0.612101</td>\n",
       "      <td>0.530915</td>\n",
       "      <td>0.448060</td>\n",
       "      <td>0.367991</td>\n",
       "      <td>0.294594</td>\n",
       "      <td>0.230497</td>\n",
       "      <td>0.176850</td>\n",
       "    </tr>\n",
       "    <tr>\n",
       "      <th>-2.593231</th>\n",
       "      <td>0.740125</td>\n",
       "      <td>0.671348</td>\n",
       "      <td>0.594345</td>\n",
       "      <td>0.512404</td>\n",
       "      <td>0.429790</td>\n",
       "      <td>0.350911</td>\n",
       "      <td>0.279414</td>\n",
       "      <td>0.217601</td>\n",
       "      <td>0.166307</td>\n",
       "      <td>0.125169</td>\n",
       "    </tr>\n",
       "    <tr>\n",
       "      <th>-1.717250</th>\n",
       "      <td>0.654775</td>\n",
       "      <td>0.576339</td>\n",
       "      <td>0.493858</td>\n",
       "      <td>0.411710</td>\n",
       "      <td>0.334204</td>\n",
       "      <td>0.264723</td>\n",
       "      <td>0.205234</td>\n",
       "      <td>0.156273</td>\n",
       "      <td>0.117268</td>\n",
       "      <td>0.086995</td>\n",
       "    </tr>\n",
       "    <tr>\n",
       "      <th>-0.841270</th>\n",
       "      <td>0.558128</td>\n",
       "      <td>0.475329</td>\n",
       "      <td>0.393865</td>\n",
       "      <td>0.317903</td>\n",
       "      <td>0.250536</td>\n",
       "      <td>0.193396</td>\n",
       "      <td>0.146738</td>\n",
       "      <td>0.109803</td>\n",
       "      <td>0.081280</td>\n",
       "      <td>0.059669</td>\n",
       "    </tr>\n",
       "    <tr>\n",
       "      <th>0.034711</th>\n",
       "      <td>0.456868</td>\n",
       "      <td>0.376299</td>\n",
       "      <td>0.302036</td>\n",
       "      <td>0.236864</td>\n",
       "      <td>0.182085</td>\n",
       "      <td>0.137689</td>\n",
       "      <td>0.102758</td>\n",
       "      <td>0.075909</td>\n",
       "      <td>0.055640</td>\n",
       "      <td>0.040545</td>\n",
       "    </tr>\n",
       "    <tr>\n",
       "      <th>0.910692</th>\n",
       "      <td>0.359052</td>\n",
       "      <td>0.286629</td>\n",
       "      <td>0.223715</td>\n",
       "      <td>0.171295</td>\n",
       "      <td>0.129115</td>\n",
       "      <td>0.096116</td>\n",
       "      <td>0.070865</td>\n",
       "      <td>0.051867</td>\n",
       "      <td>0.037756</td>\n",
       "      <td>0.027372</td>\n",
       "    </tr>\n",
       "    <tr>\n",
       "      <th>1.786672</th>\n",
       "      <td>0.271701</td>\n",
       "      <td>0.211095</td>\n",
       "      <td>0.161018</td>\n",
       "      <td>0.120999</td>\n",
       "      <td>0.089861</td>\n",
       "      <td>0.066133</td>\n",
       "      <td>0.048338</td>\n",
       "      <td>0.035151</td>\n",
       "      <td>0.025465</td>\n",
       "      <td>0.018397</td>\n",
       "    </tr>\n",
       "    <tr>\n",
       "      <th>2.662653</th>\n",
       "      <td>0.199003</td>\n",
       "      <td>0.151245</td>\n",
       "      <td>0.113327</td>\n",
       "      <td>0.083975</td>\n",
       "      <td>0.061696</td>\n",
       "      <td>0.045037</td>\n",
       "      <td>0.032719</td>\n",
       "      <td>0.023687</td>\n",
       "      <td>0.017104</td>\n",
       "      <td>0.012327</td>\n",
       "    </tr>\n",
       "    <tr>\n",
       "      <th>3.538634</th>\n",
       "      <td>0.141966</td>\n",
       "      <td>0.106083</td>\n",
       "      <td>0.078441</td>\n",
       "      <td>0.057538</td>\n",
       "      <td>0.041951</td>\n",
       "      <td>0.030451</td>\n",
       "      <td>0.022031</td>\n",
       "      <td>0.015900</td>\n",
       "      <td>0.011456</td>\n",
       "      <td>0.008244</td>\n",
       "    </tr>\n",
       "    <tr>\n",
       "      <th>4.414614</th>\n",
       "      <td>0.099250</td>\n",
       "      <td>0.073242</td>\n",
       "      <td>0.053644</td>\n",
       "      <td>0.039069</td>\n",
       "      <td>0.028335</td>\n",
       "      <td>0.020487</td>\n",
       "      <td>0.014780</td>\n",
       "      <td>0.010646</td>\n",
       "      <td>0.007659</td>\n",
       "      <td>0.005505</td>\n",
       "    </tr>\n",
       "  </tbody>\n",
       "</table>\n",
       "</div>"
      ],
      "text/plain": [
       "           0.665672  1.210648  1.755625  2.300602  2.845579  3.390556  \\\n",
       "-3.469212  0.810482  0.754140  0.687505  0.612101  0.530915  0.448060   \n",
       "-2.593231  0.740125  0.671348  0.594345  0.512404  0.429790  0.350911   \n",
       "-1.717250  0.654775  0.576339  0.493858  0.411710  0.334204  0.264723   \n",
       "-0.841270  0.558128  0.475329  0.393865  0.317903  0.250536  0.193396   \n",
       " 0.034711  0.456868  0.376299  0.302036  0.236864  0.182085  0.137689   \n",
       " 0.910692  0.359052  0.286629  0.223715  0.171295  0.129115  0.096116   \n",
       " 1.786672  0.271701  0.211095  0.161018  0.120999  0.089861  0.066133   \n",
       " 2.662653  0.199003  0.151245  0.113327  0.083975  0.061696  0.045037   \n",
       " 3.538634  0.141966  0.106083  0.078441  0.057538  0.041951  0.030451   \n",
       " 4.414614  0.099250  0.073242  0.053644  0.039069  0.028335  0.020487   \n",
       "\n",
       "           3.935532  4.480509  5.025486  5.570463  \n",
       "-3.469212  0.367991  0.294594  0.230497  0.176850  \n",
       "-2.593231  0.279414  0.217601  0.166307  0.125169  \n",
       "-1.717250  0.205234  0.156273  0.117268  0.086995  \n",
       "-0.841270  0.146738  0.109803  0.081280  0.059669  \n",
       " 0.034711  0.102758  0.075909  0.055640  0.040545  \n",
       " 0.910692  0.070865  0.051867  0.037756  0.027372  \n",
       " 1.786672  0.048338  0.035151  0.025465  0.018397  \n",
       " 2.662653  0.032719  0.023687  0.017104  0.012327  \n",
       " 3.538634  0.022031  0.015900  0.011456  0.008244  \n",
       " 4.414614  0.014780  0.010646  0.007659  0.005505  "
      ]
     },
     "execution_count": 22,
     "metadata": {},
     "output_type": "execute_result"
    }
   ],
   "source": [
    "### the numbers in the tables are predictions(heights)\n",
    "### column names are the x1 coordinates\n",
    "### index names are the x2 coordinates\n",
    "df         = pd.DataFrame(Z)\n",
    "df.columns = xx1\n",
    "df.index   = xx2\n",
    "df"
   ]
  },
  {
   "cell_type": "code",
   "execution_count": 23,
   "id": "598235ed",
   "metadata": {},
   "outputs": [
    {
     "data": {
      "text/plain": [
       "[(-1.7172504795922174, 1.7556252148416307)]"
      ]
     },
     "execution_count": 23,
     "metadata": {},
     "output_type": "execute_result"
    }
   ],
   "source": [
    "### Find the points that are close to the prespecified height level (0.5)\n",
    "target_value = 0.5\n",
    "tolerance    = 0.01\n",
    "points = []\n",
    "for column in df.columns:\n",
    "    for index in df.index:\n",
    "        value = df.loc[index, column]\n",
    "        if abs(value - target_value) < tolerance:\n",
    "            points.append((index, column))\n",
    "points"
   ]
  },
  {
   "cell_type": "code",
   "execution_count": 24,
   "id": "c4dc1c80",
   "metadata": {},
   "outputs": [
    {
     "data": {
      "image/png": "[encoded data removed]",
      "text/plain": [
       "<Figure size 720x360 with 1 Axes>"
      ]
     },
     "metadata": {
      "needs_background": "light"
     },
     "output_type": "display_data"
    }
   ],
   "source": [
    "##### As seen, the contour lines is close to the line generated by the green points\n",
    "_, ax = plt.subplots(nrows=1, ncols=1, figsize=(10,5))\n",
    "margin=0.5\n",
    "ax.set_xlim(x_1_lim[0]-margin,x_1_lim[1]+margin)\n",
    "ax.set_ylim(x_2_lim[0]-margin,x_2_lim[1]+margin)\n",
    "for x_list in all_x:\n",
    "    ax.scatter(x_list[:,0],x_list[:,1], s=100)\n",
    "ax.contour(XX1, XX2, Z, colors='k', levels=[0.5], linestyles=['-'])\n",
    "for coord in points:\n",
    "    y, x = coord\n",
    "    ax.scatter(x, y, color='green',s=100)\n",
    "plt.show()"
   ]
  },
  {
   "cell_type": "code",
   "execution_count": 25,
   "id": "9dc20a4d",
   "metadata": {
    "scrolled": true
   },
   "outputs": [
    {
     "data": {
      "image/png": "[encoded data removed]",
      "text/plain": [
       "<Figure size 720x360 with 1 Axes>"
      ]
     },
     "metadata": {
      "needs_background": "light"
     },
     "output_type": "display_data"
    }
   ],
   "source": [
    "### when using a more granular for np.linspace\n",
    "xx1 = np.linspace(x_1_lim[0], x_1_lim[1], 50)\n",
    "xx2 = np.linspace(x_2_lim[0], x_2_lim[1], 50)\n",
    "XX1, XX2 = np.meshgrid(xx1, xx2)\n",
    "x1x2 = np.vstack([XX1.ravel(), XX2.ravel()]).T\n",
    "Z = perceptron(torch.tensor(x1x2, dtype=torch.float32)).detach().numpy().reshape(XX1.shape)\n",
    "df         = pd.DataFrame(Z)\n",
    "df.columns = xx1\n",
    "df.index   = xx2\n",
    "### Find the points that are close to the prespecified height level (0.5)\n",
    "target_value = 0.5\n",
    "tolerance    = 0.005\n",
    "points = []\n",
    "for column in df.columns:\n",
    "    for index in df.index:\n",
    "        value = df.loc[index, column]\n",
    "        if abs(value - target_value) < tolerance:\n",
    "            points.append((index, column))\n",
    "_, ax = plt.subplots(nrows=1, ncols=1, figsize=(10,5))\n",
    "margin=0.5\n",
    "ax.set_xlim(x_1_lim[0]-margin,x_1_lim[1]+margin)\n",
    "ax.set_ylim(x_2_lim[0]-margin,x_2_lim[1]+margin)\n",
    "for x_list in all_x:\n",
    "    ax.scatter(x_list[:,0],x_list[:,1], s=100)\n",
    "ax.contour(XX1, XX2, Z, colors='k', levels=[0.5], linestyles=['-'])\n",
    "for coord in points:\n",
    "    y, x = coord\n",
    "    ax.scatter(x, y, color='green',s=10)\n",
    "plt.show()"
   ]
  }
 ],
 "metadata": {
  "kernelspec": {
   "display_name": "Python 3 (ipykernel)",
   "language": "python",
   "name": "python3"
  },
  "language_info": {
   "codemirror_mode": {
    "name": "ipython",
    "version": 3
   },
   "file_extension": ".py",
   "mimetype": "text/x-python",
   "name": "python",
   "nbconvert_exporter": "python",
   "pygments_lexer": "ipython3",
   "version": "3.9.7"
  }
 },
 "nbformat": 4,
 "nbformat_minor": 5
}
